{
 "cells": [
  {
   "cell_type": "raw",
   "metadata": {},
   "source": [
    "import numpy as np\n",
    "import pandas as pd\n",
    "\n",
    "from data_loader import *\n",
    "\n",
    "# training_data = load_train_data(\"adult_data.csv\")[0].values\n",
    "# validation_data = load_train_data(\"adult_data.csv\")[1].values\n",
    "\n",
    "# Xtr,Ytr = training_data[:,0:14], training_data[:,-1]\n",
    "# Xva,Yva = validation_data[:,0:14], validation_data[:,-1]\n",
    "\n",
    "Xtr,Xva=load_train_data(\"adult_data.csv\")\n",
    "Xte=load_test_data(\"adult_test.csv\")\n",
    "\n",
    "\n"
   ]
  },
  {
   "cell_type": "code",
   "execution_count": 2,
   "metadata": {},
   "outputs": [],
   "source": [
    "import numpy as np\n",
    "import pandas as pd\n",
    "\n",
    "\n",
    "POS_STR = ' >50K'\n",
    "\n",
    "train_file_path='adult_data.csv'\n",
    "test_file_path='adult_test.csv'\n",
    "\n",
    "\n",
    "\n",
    "def load_train_data(train_file_path, valid_rate=0.25, is_df=True):\n",
    "    data_frame = pd.read_csv(train_file_path).sample(frac=1, random_state=11)\n",
    "    np.random.seed(11)\n",
    "    mask = np.random.rand(len(data_frame)) < 1 - valid_rate\n",
    "    train_df, valid_df = data_frame.iloc[mask, :], data_frame.iloc[~mask, :]\n",
    "    if is_df:\n",
    "        return train_df, valid_df\n",
    "\n",
    "    train_labels = [1 if x == POS_STR else 0 for x in train_df.iloc[:, 14].values]\n",
    "    valid_labels = [1 if x == POS_STR else 0 for x in valid_df.iloc[:, 14].values]\n",
    "    return train_df.iloc[:, :14].values, np.array(train_labels), valid_df.iloc[:, :14].values, np.array(valid_labels)\n",
    "\n",
    "\n",
    "def load_test_data(test_file_path, is_df=True):\n",
    "    data_frame = pd.read_csv(test_file_path)\n",
    "    if is_df:\n",
    "        return data_frame\n",
    "\n",
    "    test_labels = [1 if x == POS_STR else 0 for x in data_frame.iloc[:, 14].values]\n",
    "    return data_frame.iloc[:, :14].values, np.array(test_labels)\n"
   ]
  },
  {
   "cell_type": "code",
   "execution_count": 3,
   "metadata": {},
   "outputs": [],
   "source": [
    "Xtr,Xva=load_train_data(train_file_path)"
   ]
  },
  {
   "cell_type": "code",
   "execution_count": 4,
   "metadata": {},
   "outputs": [],
   "source": [
    "Xte=load_test_data(test_file_path)"
   ]
  },
  {
   "cell_type": "code",
   "execution_count": 5,
   "metadata": {},
   "outputs": [
    {
     "data": {
      "text/html": [
       "<div>\n",
       "<style scoped>\n",
       "    .dataframe tbody tr th:only-of-type {\n",
       "        vertical-align: middle;\n",
       "    }\n",
       "\n",
       "    .dataframe tbody tr th {\n",
       "        vertical-align: top;\n",
       "    }\n",
       "\n",
       "    .dataframe thead th {\n",
       "        text-align: right;\n",
       "    }\n",
       "</style>\n",
       "<table border=\"1\" class=\"dataframe\">\n",
       "  <thead>\n",
       "    <tr style=\"text-align: right;\">\n",
       "      <th></th>\n",
       "      <th>age</th>\n",
       "      <th>fnlwgt</th>\n",
       "      <th>education-num</th>\n",
       "      <th>capital-gain</th>\n",
       "      <th>capital-loss</th>\n",
       "      <th>hours-per-week</th>\n",
       "    </tr>\n",
       "  </thead>\n",
       "  <tbody>\n",
       "    <tr>\n",
       "      <th>age</th>\n",
       "      <td>1.000000</td>\n",
       "      <td>-0.078252</td>\n",
       "      <td>0.030518</td>\n",
       "      <td>0.080028</td>\n",
       "      <td>0.053824</td>\n",
       "      <td>0.067805</td>\n",
       "    </tr>\n",
       "    <tr>\n",
       "      <th>fnlwgt</th>\n",
       "      <td>-0.078252</td>\n",
       "      <td>1.000000</td>\n",
       "      <td>-0.040856</td>\n",
       "      <td>-0.000322</td>\n",
       "      <td>-0.012357</td>\n",
       "      <td>-0.018081</td>\n",
       "    </tr>\n",
       "    <tr>\n",
       "      <th>education-num</th>\n",
       "      <td>0.030518</td>\n",
       "      <td>-0.040856</td>\n",
       "      <td>1.000000</td>\n",
       "      <td>0.124092</td>\n",
       "      <td>0.078441</td>\n",
       "      <td>0.154133</td>\n",
       "    </tr>\n",
       "    <tr>\n",
       "      <th>capital-gain</th>\n",
       "      <td>0.080028</td>\n",
       "      <td>-0.000322</td>\n",
       "      <td>0.124092</td>\n",
       "      <td>1.000000</td>\n",
       "      <td>-0.032003</td>\n",
       "      <td>0.081663</td>\n",
       "    </tr>\n",
       "    <tr>\n",
       "      <th>capital-loss</th>\n",
       "      <td>0.053824</td>\n",
       "      <td>-0.012357</td>\n",
       "      <td>0.078441</td>\n",
       "      <td>-0.032003</td>\n",
       "      <td>1.000000</td>\n",
       "      <td>0.051736</td>\n",
       "    </tr>\n",
       "    <tr>\n",
       "      <th>hours-per-week</th>\n",
       "      <td>0.067805</td>\n",
       "      <td>-0.018081</td>\n",
       "      <td>0.154133</td>\n",
       "      <td>0.081663</td>\n",
       "      <td>0.051736</td>\n",
       "      <td>1.000000</td>\n",
       "    </tr>\n",
       "  </tbody>\n",
       "</table>\n",
       "</div>"
      ],
      "text/plain": [
       "                     age    fnlwgt  education-num  capital-gain  capital-loss  \\\n",
       "age             1.000000 -0.078252       0.030518      0.080028      0.053824   \n",
       "fnlwgt         -0.078252  1.000000      -0.040856     -0.000322     -0.012357   \n",
       "education-num   0.030518 -0.040856       1.000000      0.124092      0.078441   \n",
       "capital-gain    0.080028 -0.000322       0.124092      1.000000     -0.032003   \n",
       "capital-loss    0.053824 -0.012357       0.078441     -0.032003      1.000000   \n",
       "hours-per-week  0.067805 -0.018081       0.154133      0.081663      0.051736   \n",
       "\n",
       "                hours-per-week  \n",
       "age                   0.067805  \n",
       "fnlwgt               -0.018081  \n",
       "education-num         0.154133  \n",
       "capital-gain          0.081663  \n",
       "capital-loss          0.051736  \n",
       "hours-per-week        1.000000  "
      ]
     },
     "execution_count": 5,
     "metadata": {},
     "output_type": "execute_result"
    }
   ],
   "source": [
    "Xtr.corr()"
   ]
  },
  {
   "cell_type": "code",
   "execution_count": 6,
   "metadata": {},
   "outputs": [],
   "source": [
    "Xtr.drop('education',axis=1,inplace=True)\n",
    "Xva.drop('education',axis=1,inplace=True)\n",
    "Xte.drop('education',axis=1,inplace=True)"
   ]
  },
  {
   "cell_type": "code",
   "execution_count": 61,
   "metadata": {},
   "outputs": [],
   "source": [
    "def gen_onehot_features(X,featureList):\n",
    "    for feature in featureList:\n",
    "        get_dummy_features= pd.get_dummies(X[feature])\n",
    "        X=pd.concat([X,get_dummy_features],axis=1)\n",
    "    return X  \n"
   ]
  },
  {
   "cell_type": "code",
   "execution_count": 7,
   "metadata": {},
   "outputs": [],
   "source": [
    "Xtr['income'] = Xtr['income'].map( {' <=50K':0, ' >50K':1} )\n",
    "\n",
    "Xte['income'] = Xte['income'].map( {' <=50K.':0, ' >50K.':1} )\n",
    "\n",
    "Xva['income'] = Xva['income'].map( {' <=50K':0, ' >50K':1} )"
   ]
  },
  {
   "cell_type": "code",
   "execution_count": 8,
   "metadata": {},
   "outputs": [],
   "source": [
    "Xtr.columns = [\n",
    "   \"Age\", \"WorkClass\", \"fnlwgt\", 'EducationNum',\n",
    "   'MaritalStatus', 'Occupation', 'Relationship', 'Race', 'Gender',\n",
    "   'CapitalGain', 'CapitalLoss', 'HoursPerWeek', 'NativeCountry', 'Income'\n",
    "]\n",
    "Xva.columns = [\n",
    "   \"Age\", \"WorkClass\", \"fnlwgt\", 'EducationNum',\n",
    "   'MaritalStatus', 'Occupation', 'Relationship', 'Race', 'Gender',\n",
    "   'CapitalGain', 'CapitalLoss', 'HoursPerWeek', 'NativeCountry', 'Income'\n",
    "]\n",
    "Xte.columns = [\n",
    "   \"Age\", \"WorkClass\", \"fnlwgt\", 'EducationNum',\n",
    "   'MaritalStatus', 'Occupation', 'Relationship', 'Race', 'Gender',\n",
    "   'CapitalGain', 'CapitalLoss', 'HoursPerWeek', 'NativeCountry', 'Income'\n",
    "]"
   ]
  },
  {
   "cell_type": "code",
   "execution_count": 9,
   "metadata": {},
   "outputs": [],
   "source": [
    "# Convert income to 0 and 1\n",
    "Ytr = Xtr[\"Income\"].values\n",
    "Xtr.drop(\"Income\", axis=1, inplace=True,)"
   ]
  },
  {
   "cell_type": "code",
   "execution_count": 10,
   "metadata": {},
   "outputs": [],
   "source": [
    "# Convert income to 0 and 1\n",
    "Yva = Xva[\"Income\"].values\n",
    "Xva.drop(\"Income\", axis=1, inplace=True,)"
   ]
  },
  {
   "cell_type": "code",
   "execution_count": 11,
   "metadata": {},
   "outputs": [],
   "source": [
    "# Convert income to 0 and 1\n",
    "Yte = Xte[\"Income\"].values\n",
    "Xte.drop(\"Income\", axis=1, inplace=True,)"
   ]
  },
  {
   "cell_type": "code",
   "execution_count": 12,
   "metadata": {},
   "outputs": [],
   "source": [
    "Xtr.Age = Xtr.Age.astype(float)\n",
    "Xtr.fnlwgt = Xtr.fnlwgt.astype(float)\n",
    "Xtr.EducationNum = Xtr.EducationNum.astype(float)\n",
    "Xtr.HoursPerWeek = Xtr.HoursPerWeek.astype(float)\n",
    "\n",
    "Xva.Age = Xva.Age.astype(float)\n",
    "Xva.fnlwgt = Xva.fnlwgt.astype(float)\n",
    "Xva.EducationNum = Xva.EducationNum.astype(float)\n",
    "Xva.HoursPerWeek = Xva.HoursPerWeek.astype(float)\n",
    "\n",
    "Xte.Age = Xte.Age.astype(float)\n",
    "Xte.fnlwgt = Xte.fnlwgt.astype(float)\n",
    "Xte.EducationNum = Xte.EducationNum.astype(float)\n",
    "Xte.HoursPerWeek = Xte.HoursPerWeek.astype(float)"
   ]
  },
  {
   "cell_type": "code",
   "execution_count": 13,
   "metadata": {},
   "outputs": [],
   "source": [
    "Xtr = pd.get_dummies(Xtr, columns=[\n",
    "   \"WorkClass\",\n",
    "   'MaritalStatus', 'Occupation', 'Relationship', 'Race', 'Gender', 'NativeCountry',\n",
    "])\n",
    "\n",
    "Xva = pd.get_dummies(Xva, columns=[\n",
    "   \"WorkClass\",\n",
    "   'MaritalStatus', 'Occupation', 'Relationship', 'Race', 'Gender', 'NativeCountry',\n",
    "])\n",
    "\n",
    "Xte = pd.get_dummies(Xte, columns=[\n",
    "   \"WorkClass\",\n",
    "   'MaritalStatus', 'Occupation', 'Relationship', 'Race', 'Gender', 'NativeCountry',\n",
    "])"
   ]
  },
  {
   "cell_type": "code",
   "execution_count": 14,
   "metadata": {},
   "outputs": [],
   "source": [
    "Xva.insert(loc=65, column='NativeCountry_ Holand-Netherlands', value=0)\n",
    "Xte.insert(loc=65, column='NativeCountry_ Holand-Netherlands', value=0)"
   ]
  },
  {
   "cell_type": "code",
   "execution_count": 15,
   "metadata": {},
   "outputs": [],
   "source": [
    "# Standardize data (0 mean, 1 stdev)\n",
    "from sklearn.preprocessing import StandardScaler\n",
    "import pandas\n",
    "import numpy\n",
    "\n",
    "def standardization(X):\n",
    "    Xscaler = X.filter([\"Age\", \"fnlwgt\", \"EducationNum\", \"HoursPerWeek\"],axis=1)\n",
    "    array = Xscaler.values\n",
    "    scaler = StandardScaler().fit(Xscaler)\n",
    "    rescaledX = scaler.transform(Xscaler)\n",
    "    return rescaledX  \n",
    "\n",
    "Xtr_scaled = standardization(Xtr)\n",
    "Xtr.Age = Xtr_scaled[:,0]\n",
    "Xtr.fnlwgt = Xtr_scaled[:,1]\n",
    "Xtr.EducationNum = Xtr_scaled[:,2]\n",
    "Xtr.HoursPerWeek = Xtr_scaled[:,3]\n",
    "\n",
    "Xva_scaled = standardization(Xva)\n",
    "Xva.Age = Xva_scaled[:,0]\n",
    "Xva.fnlwgt = Xva_scaled[:,1]\n",
    "Xva.EducationNum = Xva_scaled[:,2]\n",
    "Xva.HoursPerWeek = Xva_scaled[:,3]\n",
    "\n",
    "Xte_scaled = standardization(Xte)\n",
    "Xte.Age = Xte_scaled[:,0]\n",
    "Xte.fnlwgt = Xte_scaled[:,1]\n",
    "Xte.EducationNum = Xte_scaled[:,2]\n",
    "Xte.HoursPerWeek = Xte_scaled[:,3]\n"
   ]
  },
  {
   "cell_type": "code",
   "execution_count": 16,
   "metadata": {},
   "outputs": [],
   "source": [
    "# Normalize data (length of 1)\n",
    "from sklearn.preprocessing import Normalizer\n",
    "import pandas\n",
    "import numpy\n",
    "\n",
    "def normalization(X):\n",
    "    Xnormal = X.filter([\"CapitalGain\",\"CapitalLoss\"],axis=1)\n",
    "    scaler = Normalizer().fit(Xnormal)\n",
    "    normalizedX = scaler.transform(Xnormal)\n",
    "    return normalizedX\n",
    "\n",
    "Xtr_normal = normalization(Xtr)\n",
    "Xtr.CapitalGain = Xtr_normal[:,0]\n",
    "Xtr.CapitalLoss = Xtr_normal[:,1]\n",
    "\n",
    "Xva_normal = normalization(Xva)\n",
    "Xva.CapitalGain= Xva_normal[:,0]\n",
    "Xva.CapitalLoss= Xva_normal[:,1]\n",
    "\n",
    "Xte_normal = normalization(Xte)\n",
    "Xte.CapitalGain= Xte_normal[:,0]\n",
    "Xte.CapitalLoss= Xte_normal[:,1]"
   ]
  },
  {
   "cell_type": "code",
   "execution_count": 22,
   "metadata": {},
   "outputs": [
    {
     "name": "stdout",
     "output_type": "stream",
     "text": [
      "AUC for training data 0.7573724971483353\n",
      "Acuracy for training data 0.8443452259042313\n"
     ]
    }
   ],
   "source": [
    "from sklearn.datasets import load_iris\n",
    "from sklearn.linear_model import LogisticRegression\n",
    "from sklearn.metrics import roc_auc_score\n",
    "\n",
    "clf = LogisticRegression(random_state=0).fit(Xtr, Ytr)\n",
    "Ytrhat = clf.predict(Xtr)\n",
    "auc_tr = roc_auc_score(Ytr, Ytrhat)\n",
    "accuracy_tr = clf.score(Xtr, Ytr)\n",
    "print(f\"AUC for training data {auc_tr}\")\n",
    "print(f\"Acuracy for training data {accuracy_tr}\")"
   ]
  },
  {
   "cell_type": "code",
   "execution_count": 23,
   "metadata": {},
   "outputs": [
    {
     "name": "stdout",
     "output_type": "stream",
     "text": [
      "AUC for validation data 0.7661489799492164\n",
      "Acuracy for validation data 0.8485517918507609\n"
     ]
    }
   ],
   "source": [
    "Yvahat = clf.predict(Xva)\n",
    "auc_val = roc_auc_score(Yva, Yvahat)\n",
    "accuracy_val = clf.score(Xva, Yva)\n",
    "print(f\"AUC for validation data {auc_val}\")\n",
    "print(f\"Acuracy for validation data {accuracy_val}\")"
   ]
  },
  {
   "cell_type": "code",
   "execution_count": 24,
   "metadata": {},
   "outputs": [
    {
     "name": "stdout",
     "output_type": "stream",
     "text": [
      "AUC for test data 0.756698764934916\n",
      "Acuracy for test data 0.8458939868558443\n"
     ]
    }
   ],
   "source": [
    "Ytehat = clf.predict(Xte)\n",
    "auc_test = roc_auc_score(Yte, Ytehat)\n",
    "accuracy_test = clf.score(Xte, Yte)\n",
    "print(f\"AUC for test data {auc_test}\")\n",
    "print(f\"Acuracy for test data {accuracy_test}\")"
   ]
  }
 ],
 "metadata": {
  "kernelspec": {
   "display_name": "Python 3",
   "language": "python",
   "name": "python3"
  },
  "language_info": {
   "codemirror_mode": {
    "name": "ipython",
    "version": 3
   },
   "file_extension": ".py",
   "mimetype": "text/x-python",
   "name": "python",
   "nbconvert_exporter": "python",
   "pygments_lexer": "ipython3",
   "version": "3.7.0"
  }
 },
 "nbformat": 4,
 "nbformat_minor": 2
}
